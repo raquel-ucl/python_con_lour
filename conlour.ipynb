{
 "cells": [
  {
   "cell_type": "code",
   "execution_count": 47,
   "metadata": {},
   "outputs": [],
   "source": [
    "from openpyxl import load_workbook\n",
    "\n",
    "checklist = load_workbook('sample.xlsx')\n",
    "active_sheet = checklist.active\n"
   ]
  },
  {
   "cell_type": "code",
   "execution_count": 48,
   "metadata": {},
   "outputs": [],
   "source": [
    "a1 = active_sheet['A1']\n"
   ]
  },
  {
   "cell_type": "code",
   "execution_count": 49,
   "metadata": {},
   "outputs": [
    {
     "data": {
      "text/plain": [
       "'Field'"
      ]
     },
     "execution_count": 49,
     "metadata": {},
     "output_type": "execute_result"
    }
   ],
   "source": [
    "a1.value"
   ]
  },
  {
   "cell_type": "code",
   "execution_count": 50,
   "metadata": {},
   "outputs": [],
   "source": [
    "data = [active_sheet.cell(row=2,column=i).value for i in range(2,7) ]"
   ]
  },
  {
   "cell_type": "code",
   "execution_count": 51,
   "metadata": {},
   "outputs": [
    {
     "data": {
      "text/plain": [
       "[2, 3, 1, None, 3]"
      ]
     },
     "execution_count": 51,
     "metadata": {},
     "output_type": "execute_result"
    }
   ],
   "source": [
    "data"
   ]
  },
  {
   "cell_type": "code",
   "execution_count": 59,
   "metadata": {},
   "outputs": [
    {
     "name": "stdout",
     "output_type": "stream",
     "text": [
      "2\n",
      "3\n",
      "1\n",
      "3\n"
     ]
    }
   ],
   "source": [
    "non_empty_data = filter(None, data)\n",
    "for elem in non_empty_data:\n",
    "    print(elem)\n",
    "    \n",
    "    "
   ]
  },
  {
   "cell_type": "code",
   "execution_count": 54,
   "metadata": {},
   "outputs": [
    {
     "data": {
      "text/plain": [
       "9"
      ]
     },
     "execution_count": 54,
     "metadata": {},
     "output_type": "execute_result"
    }
   ],
   "source": [
    "sum(non_empty_data)"
   ]
  },
  {
   "cell_type": "markdown",
   "metadata": {},
   "source": [
    "## Intentando algo un poco mas avanzado y modular"
   ]
  },
  {
   "cell_type": "code",
   "execution_count": 245,
   "metadata": {},
   "outputs": [],
   "source": [
    "# This needs `pip install openpyxl` or `conda install openpyxl`\n",
    "from openpyxl import load_workbook"
   ]
  },
  {
   "cell_type": "code",
   "execution_count": 246,
   "metadata": {},
   "outputs": [],
   "source": [
    "def get_active_sheet(filename):\n",
    "    '''\n",
    "    This function reads an xlsx file in the same folder\n",
    "    as this notebook and returns a variable containing\n",
    "    the active sheet.\n",
    "    '''\n",
    "    workbook = load_workbook(filename)\n",
    "    active_sheet = workbook.active\n",
    "    return active_sheet"
   ]
  },
  {
   "cell_type": "code",
   "execution_count": 247,
   "metadata": {},
   "outputs": [],
   "source": [
    "def get_weekly_data(sheet):\n",
    "    '''\n",
    "    Given a sheet variable containing a data in the form of:\n",
    "    | Field   | Mon | Tue | Wed | Thu | Fri |\n",
    "    -----------------------------------------\n",
    "    | field 1 | 1   |     |     | 7   | 2   |\n",
    "    | field 2 |     |     |     | 1   |     |\n",
    "    | field 3 | 2   |     | 5   | 1   |     |\n",
    "    return a dictionary where the keys are the field names and \n",
    "    the value is a list of 5 element containing the cell values \n",
    "    per week day, e.g.:\n",
    "    \n",
    "    result = {\n",
    "        \"field 1\": [1,    None, None, 7, 2   ],\n",
    "        \"field 2\": [None, None, None, 1, None],\n",
    "        \"field 3\": [2,    None, 5,    1, None]\n",
    "    \n",
    "    }\n",
    "    '''\n",
    "    # We'll save the dictionary of lists in the `all_rows` variable,\n",
    "    # initally empty\n",
    "    all_rows = {}\n",
    "    # We don't know the number of rows in advance, so we iterate\n",
    "    # from the 2nd (the 1st one is just the column titles), to the\n",
    "    # last one given by `sheet.max_row`.\n",
    "    for row in range(2, sheet.max_row + 1): # `+1` is needed because range excludes the last index\n",
    "        row_list = [] # empty list to store contents of current row\n",
    "        # We know data is in columns Mon-Fri, with index 2 to \n",
    "        # 6 (inclusive of 6).\n",
    "        field_name = sheet.cell(row=row, column=1).value\n",
    "        for column in range(2, 7):\n",
    "            current_cell = sheet.cell(row=row, column=column)\n",
    "            row_list.append(current_cell.value)\n",
    "        all_rows[field_name] = row_list\n",
    "    return all_rows\n",
    "        "
   ]
  },
  {
   "cell_type": "code",
   "execution_count": 264,
   "metadata": {},
   "outputs": [],
   "source": [
    "def clean_data(messy_dict):\n",
    "    '''\n",
    "    Receives a dictionary of lists which contain some empty \n",
    "    (`None`) values, and returns a similar dictionary with\n",
    "    clean lists with the None values filtered out.\n",
    "    E.g. given:\n",
    "    \n",
    "    messy_dict = {\n",
    "        \"field 1\": [1,    None, None, 7, 2   ],\n",
    "        \"field 2\": [None, None, None, 1, None],\n",
    "        \"field 3\": [2,    None, 5,    1, None]\n",
    "    }\n",
    "    \n",
    "    it returns:\n",
    "    \n",
    "    clean_dict = {\n",
    "        \"field 1\": [1, 7, 2],\n",
    "        \"field 2\": [1],\n",
    "        \"field 3\": [2, 5, 1]\n",
    "    }    \n",
    "    '''\n",
    "    clean_dict = {}\n",
    "    for key in messy_dict.keys():\n",
    "        filtered_list = filter(None, messy_dict[key])\n",
    "        clean_dict[key] = filtered_list\n",
    "    return clean_dict\n",
    "        "
   ]
  },
  {
   "cell_type": "code",
   "execution_count": 273,
   "metadata": {},
   "outputs": [],
   "source": [
    "def sum_data(clean_dict):\n",
    "    '''\n",
    "    Receives a list of lists with numbers and returns a list of sum results per list.\n",
    "    E.g.     \n",
    "    \n",
    "    clean_dict = {\n",
    "        \"field 1\": [1, 7, 2],\n",
    "        \"field 2\": [1],\n",
    "        \"field 3\": [2, 5, 1]\n",
    "    }    \n",
    "             \n",
    "    returns:\n",
    "             \n",
    "    sum_dict = {\n",
    "        \"field 1\": 10,\n",
    "        \"field 2\": 1,\n",
    "        \"field 3\": 8\n",
    "    }  \n",
    "    \n",
    "    '''\n",
    "    sum_dict = {}\n",
    "    for key in clean_dict.keys():\n",
    "        num_sum = sum(clean_dict[key])\n",
    "        sum_dict[key] = num_sum\n",
    "    return sum_dict"
   ]
  },
  {
   "cell_type": "code",
   "execution_count": 274,
   "metadata": {},
   "outputs": [],
   "source": [
    "def write_sum_list(sum_dict, output_filename, column):\n",
    "    '''\n",
    "    Receives a sum dictionary, e.g.: {\n",
    "                                    \"field 1\": 10, \n",
    "                                    \"field 2\": 1, \n",
    "                                    \"field 3\": 8\n",
    "                                     }\n",
    "    and saves it on a given excel file in `output_filename`,\n",
    "    the cell in the given column next to each field.\n",
    "    \n",
    "    E.g. the input excel might contain:\n",
    "\n",
    "    | Field   | Sum |\n",
    "    -----------------\n",
    "    | field 1 |     |\n",
    "    | field 2 |     |\n",
    "    | field 3 |     |\n",
    "    \n",
    "    And we'll update it like this:\n",
    "    \n",
    "    | Field   | Sum |\n",
    "    -----------------\n",
    "    | field 1 | 10  |\n",
    "    | field 2 | 1   |\n",
    "    | field 3 | 8   |   \n",
    "    \n",
    "    '''\n",
    "    workbook = load_workbook(output_filename)\n",
    "    sheet = workbook.active\n",
    "    for key in sum_dict:\n",
    "        # Find key in output workbook\n",
    "        for row in range(1, sheet.max_row + 1):\n",
    "            if (sheet.cell(row=row, column=column).value == key):\n",
    "                sheet.cell(row=row, column=column+1).value = sum_dict[key]\n",
    "    workbook.save(output_filename)\n",
    "    "
   ]
  },
  {
   "cell_type": "markdown",
   "metadata": {},
   "source": [
    "Let's start: read the file called `checklist.xslx` in current directory and save the active sheet on a variable so we can refer to it later on."
   ]
  },
  {
   "cell_type": "code",
   "execution_count": 275,
   "metadata": {},
   "outputs": [],
   "source": [
    "sheet = get_active_sheet('checklist.xlsx')"
   ]
  },
  {
   "cell_type": "markdown",
   "metadata": {},
   "source": [
    "Now load the data within the sheet and save to dictionary where the keys are the checklists' field names and the values are a list of numbers representing incidences from Mon to Fri."
   ]
  },
  {
   "cell_type": "code",
   "execution_count": 276,
   "metadata": {},
   "outputs": [],
   "source": [
    "checklist_data = get_weekly_data(sheet)"
   ]
  },
  {
   "cell_type": "code",
   "execution_count": 277,
   "metadata": {},
   "outputs": [
    {
     "data": {
      "text/plain": [
       "{'field 1': [1, None, None, 7, 2],\n",
       " 'field 2': [None, None, None, 1, None],\n",
       " 'field 3': [2, None, 5, 1, None]}"
      ]
     },
     "execution_count": 277,
     "metadata": {},
     "output_type": "execute_result"
    }
   ],
   "source": [
    "checklist_data"
   ]
  },
  {
   "cell_type": "markdown",
   "metadata": {},
   "source": [
    "We can't make sums with `None` values, so let's get rid of them:"
   ]
  },
  {
   "cell_type": "code",
   "execution_count": 278,
   "metadata": {},
   "outputs": [],
   "source": [
    "clean_checklist = clean_data(checklist_data)"
   ]
  },
  {
   "cell_type": "markdown",
   "metadata": {},
   "source": [
    "Now we are ready to sum the data for each field:"
   ]
  },
  {
   "cell_type": "code",
   "execution_count": 279,
   "metadata": {},
   "outputs": [],
   "source": [
    "sums = sum_data(clean_checklist)"
   ]
  },
  {
   "cell_type": "code",
   "execution_count": 280,
   "metadata": {},
   "outputs": [
    {
     "data": {
      "text/plain": [
       "{'field 1': 10, 'field 2': 1, 'field 3': 8}"
      ]
     },
     "execution_count": 280,
     "metadata": {},
     "output_type": "execute_result"
    }
   ],
   "source": [
    "sums"
   ]
  },
  {
   "cell_type": "markdown",
   "metadata": {},
   "source": [
    "Let's save it on a different file:"
   ]
  },
  {
   "cell_type": "code",
   "execution_count": 281,
   "metadata": {},
   "outputs": [],
   "source": [
    "write_sum_list(sums, 'output.xlsx', 1)"
   ]
  },
  {
   "cell_type": "code",
   "execution_count": null,
   "metadata": {},
   "outputs": [],
   "source": []
  }
 ],
 "metadata": {
  "kernelspec": {
   "display_name": "Python 3",
   "language": "python",
   "name": "python3"
  },
  "language_info": {
   "codemirror_mode": {
    "name": "ipython",
    "version": 3
   },
   "file_extension": ".py",
   "mimetype": "text/x-python",
   "name": "python",
   "nbconvert_exporter": "python",
   "pygments_lexer": "ipython3",
   "version": "3.6.1"
  }
 },
 "nbformat": 4,
 "nbformat_minor": 2
}
